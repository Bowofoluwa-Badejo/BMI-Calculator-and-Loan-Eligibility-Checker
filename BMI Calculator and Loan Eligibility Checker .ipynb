{
 "cells": [
  {
   "cell_type": "markdown",
   "id": "97b22c3b",
   "metadata": {},
   "source": [
    "##  Body Mass Index (BMI) Calculator"
   ]
  },
  {
   "cell_type": "code",
   "execution_count": 1,
   "id": "ad59262b",
   "metadata": {},
   "outputs": [
    {
     "name": "stdout",
     "output_type": "stream",
     "text": [
      "welcome! Enter your name; Bayo\n",
      "Enter your weight in kg; 95\n",
      "Enter your height in meters; 1.68\n",
      "33.6592970521542\n",
      "Bayo, you are obese; Type 1\n"
     ]
    }
   ],
   "source": [
    "name= input('welcome! Enter your name; ')\n",
    "\n",
    "weight= int(input('Enter your weight in kg; '))\n",
    "            \n",
    "height = float(input('Enter your height in meters; '))\n",
    "\n",
    "BMI= (weight)/ (height*height)\n",
    "\n",
    "print (BMI)\n",
    "\n",
    "if (BMI< 18.5):\n",
    "    print(name+ ', you are underweight')\n",
    "elif(BMI>=18.5) and (BMI <=25.0):\n",
    "        print(name+ ', you have a normal weight')\n",
    "elif (BMI>25.0) and (BMI<=29.0 ):\n",
    "    print(name+ ', you are over weight')\n",
    "elif (BMI>=30.0 ) and (BMI <=34.9):\n",
    "    print(name+ ', you are obese; Type 1')\n",
    "elif(BMI >=35.0) and (BMI <=39.9):\n",
    "     print(name+ ', you are obese; Type 2')\n",
    "elif(BMI >40):\n",
    "    print(name+', you are obese; Type 3')\n",
    "else:\n",
    "    print(' Enter valid inputs')\n"
   ]
  },
  {
   "cell_type": "code",
   "execution_count": 2,
   "id": "b0089bbd",
   "metadata": {},
   "outputs": [
    {
     "name": "stdout",
     "output_type": "stream",
     "text": [
      "welcome! Enter your name; Wunmi\n",
      "Enter your weight in kg; 52\n",
      "Enter your height in meters; 1.78\n",
      "16.41206918318394\n",
      "Wunmi, you are underweight\n"
     ]
    }
   ],
   "source": [
    "name= input('welcome! Enter your name; ')\n",
    "\n",
    "weight= int(input('Enter your weight in kg; '))\n",
    "            \n",
    "height = float(input('Enter your height in meters; '))\n",
    "\n",
    "BMI= (weight)/ (height*height)\n",
    "\n",
    "print (BMI)\n",
    "\n",
    "if (BMI< 18.5):\n",
    "    print(name+ ', you are underweight')\n",
    "elif(BMI>=18.5) and (BMI <=25.0):\n",
    "        print(name+ ', you have a normal weight')\n",
    "elif (BMI>25.0) and (BMI<=29.0 ):\n",
    "    print(name+ ', you are over weight')\n",
    "elif (BMI>=30.0 ) and (BMI <=34.9):\n",
    "    print(name+ ', you are obese; Type 1')\n",
    "elif(BMI >=35.0) and (BMI <=39.9):\n",
    "     print(name+ ', you are obese; Type 2')\n",
    "elif(BMI >40):\n",
    "    print(name+', you are obese; Type 3')\n",
    "else:\n",
    "    print(' Enter valid inputs')\n"
   ]
  },
  {
   "cell_type": "code",
   "execution_count": 3,
   "id": "461259ad",
   "metadata": {},
   "outputs": [
    {
     "name": "stdout",
     "output_type": "stream",
     "text": [
      "welcome! Enter your name; Bode\n",
      "Enter your weight in kg; 85\n",
      "Enter your height in meters; 1.75\n",
      "27.755102040816325\n",
      "Bode, you are over weight\n"
     ]
    }
   ],
   "source": [
    "name= input('welcome! Enter your name; ')\n",
    "\n",
    "weight= int(input('Enter your weight in kg; '))\n",
    "            \n",
    "height = float(input('Enter your height in meters; '))\n",
    "\n",
    "BMI= (weight)/ (height*height)\n",
    "\n",
    "print (BMI)\n",
    "\n",
    "if (BMI< 18.5):\n",
    "    print(name+ ', you are underweight')\n",
    "elif(BMI>=18.5) and (BMI <=25.0):\n",
    "        print(name+ ', you have a normal weight')\n",
    "elif (BMI>25.0) and (BMI<=29.0 ):\n",
    "    print(name+ ', you are over weight')\n",
    "elif (BMI>=30.0 ) and (BMI <=34.9):\n",
    "    print(name+ ', you are obese; Type 1')\n",
    "elif(BMI >=35.0) and (BMI <=39.9):\n",
    "     print(name+ ', you are obese; Type 2')\n",
    "elif(BMI >40):\n",
    "    print(name+', you are obese; Type 3')\n",
    "else:\n",
    "    print(' Enter valid inputs')\n"
   ]
  },
  {
   "cell_type": "code",
   "execution_count": 4,
   "id": "6e66585c",
   "metadata": {},
   "outputs": [
    {
     "name": "stdout",
     "output_type": "stream",
     "text": [
      "welcome! Enter your name; Tina\n",
      "Enter your weight in kg; 69\n",
      "Enter your height in meters; 1.76\n",
      "22.275309917355372\n",
      "Tina, you have a normal weight\n"
     ]
    }
   ],
   "source": [
    "name= input('welcome! Enter your name; ')\n",
    "\n",
    "weight= int(input('Enter your weight in kg; '))\n",
    "            \n",
    "height = float(input('Enter your height in meters; '))\n",
    "\n",
    "BMI= (weight)/ (height*height)\n",
    "\n",
    "print (BMI)\n",
    "\n",
    "if (BMI< 18.5):\n",
    "    print(name+ ', you are underweight')\n",
    "elif(BMI>=18.5) and (BMI <=25.0):\n",
    "        print(name+ ', you have a normal weight')\n",
    "elif (BMI>25.0) and (BMI<=29.0 ):\n",
    "    print(name+ ', you are over weight')\n",
    "elif (BMI>=30.0 ) and (BMI <=34.9):\n",
    "    print(name+ ', you are obese; Type 1')\n",
    "elif(BMI >=35.0) and (BMI <=39.9):\n",
    "     print(name+ ', you are obese; Type 2')\n",
    "elif(BMI >40):\n",
    "    print(name+', you are obese; Type 3')\n",
    "else:\n",
    "    print(' Enter valid inputs')\n"
   ]
  },
  {
   "cell_type": "code",
   "execution_count": 6,
   "id": "36f24c86",
   "metadata": {},
   "outputs": [
    {
     "name": "stdout",
     "output_type": "stream",
     "text": [
      "welcome! Enter your name; yomi\n",
      "Enter your weight in kg; 95\n",
      "Enter your height in meters; 1.56\n",
      "39.036817882971725\n",
      "yomi, you are obese; Type 2\n"
     ]
    }
   ],
   "source": [
    "name= input('welcome! Enter your name; ')\n",
    "\n",
    "weight= int(input('Enter your weight in kg; '))\n",
    "            \n",
    "height = float(input('Enter your height in meters; '))\n",
    "\n",
    "BMI= (weight)/ (height*height)\n",
    "\n",
    "print (BMI)\n",
    "\n",
    "if (BMI< 18.5):\n",
    "    print(name+ ', you are underweight')\n",
    "elif(BMI>=18.5) and (BMI <=25.0):\n",
    "        print(name+ ', you have a normal weight')\n",
    "elif (BMI>25.0) and (BMI<=29.0 ):\n",
    "    print(name+ ', you are over weight')\n",
    "elif (BMI>=30.0 ) and (BMI <=34.9):\n",
    "    print(name+ ', you are obese; Type 1')\n",
    "elif(BMI >=35.0) and (BMI <=39.9):\n",
    "     print(name+ ', you are obese; Type 2')\n",
    "elif(BMI >40):\n",
    "    print(name+', you are obese; Type 3')\n",
    "else:\n",
    "    print(' Enter valid inputs')\n"
   ]
  },
  {
   "cell_type": "code",
   "execution_count": 7,
   "id": "abe4246c",
   "metadata": {},
   "outputs": [
    {
     "name": "stdout",
     "output_type": "stream",
     "text": [
      "welcome! Enter your name; Fatima\n",
      "Enter your weight in kg; 95\n",
      "Enter your height in meters; 1.53\n",
      "40.582681874492714\n",
      "Fatima, you are obese; Type 3\n"
     ]
    }
   ],
   "source": [
    "name= input('welcome! Enter your name; ')\n",
    "\n",
    "weight= int(input('Enter your weight in kg; '))\n",
    "            \n",
    "height = float(input('Enter your height in meters; '))\n",
    "\n",
    "BMI= (weight)/ (height*height)\n",
    "\n",
    "print (BMI)\n",
    "\n",
    "if (BMI< 18.5):\n",
    "    print(name+ ', you are underweight')\n",
    "elif(BMI>=18.5) and (BMI <=25.0):\n",
    "        print(name+ ', you have a normal weight')\n",
    "elif (BMI>25.0) and (BMI<=29.0 ):\n",
    "    print(name+ ', you are over weight')\n",
    "elif (BMI>=30.0 ) and (BMI <=34.9):\n",
    "    print(name+ ', you are obese; Type 1')\n",
    "elif(BMI >=35.0) and (BMI <=39.9):\n",
    "     print(name+ ', you are obese; Type 2')\n",
    "elif(BMI >40):\n",
    "    print(name+', you are obese; Type 3')\n",
    "else:\n",
    "    print(' Enter valid inputs')\n"
   ]
  },
  {
   "cell_type": "markdown",
   "id": "ef07ac90",
   "metadata": {},
   "source": [
    "## Loan Eligibility Checker"
   ]
  },
  {
   "cell_type": "code",
   "execution_count": 8,
   "id": "4ceecd2e",
   "metadata": {},
   "outputs": [
    {
     "name": "stdout",
     "output_type": "stream",
     "text": [
      "What is your name? Biodun\n",
      "How old are you? 28\n",
      "Do you work/ have a job? no\n",
      "How much do you earn? 56_000\n",
      "congratulations! Biodun you are eligible for a loan\n",
      "loan limit is 25,000\n"
     ]
    }
   ],
   "source": [
    "name= input('What is your name? ')\n",
    "\n",
    "age=int(input('How old are you? '))\n",
    "\n",
    "occupation= input('Do you work/ have a job? ')\n",
    "\n",
    "salary=int(input('How much do you earn? '))\n",
    "\n",
    "if (occupation=='no' ) and (salary< 50_000) or (age < 18) or (age>=65):\n",
    "    print('sorry! '+ name + ', you are not eligible for a loan')\n",
    "elif (occupation =='no') and (salary >=50_000):\n",
    "    print('congratulations! ' + name + ' you are eligible for a loan'),\n",
    "    print('loan limit is 25,000')\n",
    "elif (occupation =='yes') and (salary <=50_000):\n",
    "    print('congratulations! ' + name + ' you are eligible for a loan')\n",
    "    print('loan limit is 25,000')\n",
    "elif (occupation =='yes') and (salary <= 100_000):\n",
    "        print('congratulations! '+ name+ ', you are eligible for a loan')\n",
    "        print('Loan limit is 50,000')\n",
    "elif (occupation =='yes') and (salary <=200_000):\n",
    "    print('congratulations! ' + name + ', you are eligible for a loan')\n",
    "    print('loan limit is 100,000')\n",
    "elif (occupation =='yes') and (salary <=500_000):\n",
    "    print('congratulations! ' + name + ', you are eligible for a loan')\n",
    "    print('loan limit is 250,000')\n",
    "elif (occupation =='yes') and (salary <=1_000_000):\n",
    "    print('congratulations! ' + name + ', you are eligible for a loan')\n",
    "    print('loan limit is 500,000')\n",
    "elif (occupation =='yes') and (salary >=1_000_000):\n",
    "    print('congratulations! ' + name + ', you are eligible for a loan')\n",
    "    print('please contact us for more details')       \n",
    "else:\n",
    "            print('error')"
   ]
  },
  {
   "cell_type": "code",
   "execution_count": 9,
   "id": "ec9739d0",
   "metadata": {},
   "outputs": [
    {
     "name": "stdout",
     "output_type": "stream",
     "text": [
      "What is your name? Larry\n",
      "How old are you? 24\n",
      "Do you work/ have a job? no\n",
      "How much do you earn? 32_000\n",
      "sorry! Larry, you are not eligible for a loan\n"
     ]
    }
   ],
   "source": [
    "name= input('What is your name? ')\n",
    "\n",
    "age=int(input('How old are you? '))\n",
    "\n",
    "occupation= input('Do you work/ have a job? ')\n",
    "\n",
    "salary=int(input('How much do you earn? '))\n",
    "\n",
    "if (occupation=='no' ) and (salary< 50_000) or (age < 18) or (age>=65):\n",
    "    print('sorry! '+ name + ', you are not eligible for a loan')\n",
    "elif (occupation =='no') and (salary >=50_000):\n",
    "    print('congratulations! ' + name + ' you are eligible for a loan'),\n",
    "    print('loan limit is 25,000')\n",
    "elif (occupation =='yes') and (salary <=50_000):\n",
    "    print('congratulations! ' + name + ' you are eligible for a loan')\n",
    "    print('loan limit is 25,000')\n",
    "elif (occupation =='yes') and (salary <= 100_000):\n",
    "        print('congratulations! '+ name+ ', you are eligible for a loan')\n",
    "        print('Loan limit is 50,000')\n",
    "elif (occupation =='yes') and (salary <=200_000):\n",
    "    print('congratulations! ' + name + ', you are eligible for a loan')\n",
    "    print('loan limit is 100,000')\n",
    "elif (occupation =='yes') and (salary <=500_000):\n",
    "    print('congratulations! ' + name + ', you are eligible for a loan')\n",
    "    print('loan limit is 250,000')\n",
    "elif (occupation =='yes') and (salary <=1_000_000):\n",
    "    print('congratulations! ' + name + ', you are eligible for a loan')\n",
    "    print('loan limit is 500,000')\n",
    "elif (occupation =='yes') and (salary >=1_000_000):\n",
    "    print('congratulations! ' + name + ', you are eligible for a loan')\n",
    "    print('please contact us for more details')       \n",
    "else:\n",
    "            print('error')"
   ]
  },
  {
   "cell_type": "code",
   "execution_count": 10,
   "id": "11c4944e",
   "metadata": {},
   "outputs": [
    {
     "name": "stdout",
     "output_type": "stream",
     "text": [
      "What is your name? Bella\n",
      "How old are you? 17\n",
      "Do you work/ have a job? no\n",
      "How much do you earn? 10_000\n",
      "sorry! Bella, you are not eligible for a loan\n"
     ]
    }
   ],
   "source": [
    "name= input('What is your name? ')\n",
    "\n",
    "age=int(input('How old are you? '))\n",
    "\n",
    "occupation= input('Do you work/ have a job? ')\n",
    "\n",
    "salary=int(input('How much do you earn? '))\n",
    "\n",
    "if (occupation=='no' ) and (salary< 50_000) or (age < 18) or (age>=65):\n",
    "    print('sorry! '+ name + ', you are not eligible for a loan')\n",
    "elif (occupation =='no') and (salary >=50_000):\n",
    "    print('congratulations! ' + name + ' you are eligible for a loan'),\n",
    "    print('loan limit is 25,000')\n",
    "elif (occupation =='yes') and (salary <=50_000):\n",
    "    print('congratulations! ' + name + ' you are eligible for a loan')\n",
    "    print('loan limit is 25,000')\n",
    "elif (occupation =='yes') and (salary <= 100_000):\n",
    "        print('congratulations! '+ name+ ', you are eligible for a loan')\n",
    "        print('Loan limit is 50,000')\n",
    "elif (occupation =='yes') and (salary <=200_000):\n",
    "    print('congratulations! ' + name + ', you are eligible for a loan')\n",
    "    print('loan limit is 100,000')\n",
    "elif (occupation =='yes') and (salary <=500_000):\n",
    "    print('congratulations! ' + name + ', you are eligible for a loan')\n",
    "    print('loan limit is 250,000')\n",
    "elif (occupation =='yes') and (salary <=1_000_000):\n",
    "    print('congratulations! ' + name + ', you are eligible for a loan')\n",
    "    print('loan limit is 500,000')\n",
    "elif (occupation =='yes') and (salary >=1_000_000):\n",
    "    print('congratulations! ' + name + ', you are eligible for a loan')\n",
    "    print('please contact us for more details')       \n",
    "else:\n",
    "            print('error')"
   ]
  },
  {
   "cell_type": "code",
   "execution_count": 12,
   "id": "adc89261",
   "metadata": {},
   "outputs": [
    {
     "name": "stdout",
     "output_type": "stream",
     "text": [
      "What is your name? Saye\n",
      "How old are you? 28\n",
      "Do you work/ have a job? yes\n",
      "How much do you earn? 150_000\n",
      "congratulations! Saye, you are eligible for a loan\n",
      "loan limit is 100,000\n"
     ]
    }
   ],
   "source": [
    "name= input('What is your name? ')\n",
    "\n",
    "age=int(input('How old are you? '))\n",
    "\n",
    "occupation= input('Do you work/ have a job? ')\n",
    "\n",
    "salary=int(input('How much do you earn? '))\n",
    "\n",
    "if (occupation=='no' ) and (salary< 50_000) or (age < 18) or (age>=65):\n",
    "    print('sorry! '+ name + ', you are not eligible for a loan')\n",
    "elif (occupation =='no') and (salary >=50_000):\n",
    "    print('congratulations! ' + name + ' you are eligible for a loan'),\n",
    "    print('loan limit is 25,000')\n",
    "elif (occupation =28='yes') and (salary <=50_000):\n",
    "    print('congratulations! ' + name + ' you are eligible for a loan')\n",
    "    print('loan limit is 25,000')\n",
    "elif (occupation =='yes') and (salary <= 100_000):\n",
    "        print('congratulations! '+ name+ ', you are eligible for a loan')\n",
    "        print('Loan limit is 50,000')\n",
    "elif (occupation =='yes') and (salary <=200_000):\n",
    "    print('congratulations! ' + name + ', you are eligible for a loan')\n",
    "    print('loan limit is 100,000')\n",
    "elif (occupation =='yes') and (salary <=500_000):\n",
    "    print('congratulations! ' + name + ', you are eligible for a loan')\n",
    "    print('loan limit is 250,000')\n",
    "elif (occupation =='yes') and (salary <=1_000_000):\n",
    "    print('congratulations! ' + name + ', you are eligible for a loan')\n",
    "    print('loan limit is 500,000')\n",
    "elif (occupation =='yes') and (salary >=1_000_000):\n",
    "    print('congratulations! ' + name + ', you are eligible for a loan')\n",
    "    print('please contact us for more details')       \n",
    "else:\n",
    "            print('error')"
   ]
  },
  {
   "cell_type": "code",
   "execution_count": 13,
   "id": "3f74b012",
   "metadata": {},
   "outputs": [
    {
     "name": "stdout",
     "output_type": "stream",
     "text": [
      "What is your name? Daniel\n",
      "How old are you? 75\n",
      "Do you work/ have a job? yes\n",
      "How much do you earn? 250_000\n",
      "sorry! Daniel, you are not eligible for a loan\n"
     ]
    }
   ],
   "source": [
    "name= input('What is your name? ')\n",
    "\n",
    "age=int(input('How old are you? '))\n",
    "\n",
    "occupation= input('Do you work/ have a job? ')\n",
    "\n",
    "salary=int(input('How much do you earn? '))\n",
    "\n",
    "if (occupation=='no' ) and (salary< 50_000) or (age < 18) or (age>=65):\n",
    "    print('sorry! '+ name + ', you are not eligible for a loan')\n",
    "elif (occupation =='no') and (salary >=50_000):\n",
    "    print('congratulations! ' + name + ' you are eligible for a loan'),\n",
    "    print('loan limit is 25,000')\n",
    "elif (occupation =='yes') and (salary <=50_000):\n",
    "    print('congratulations! ' + name + ' you are eligible for a loan')\n",
    "    print('loan limit is 25,000')\n",
    "elif (occupation =='yes') and (salary <= 100_000):\n",
    "        print('congratulations! '+ name+ ', you are eligible for a loan')\n",
    "        print('Loan limit is 50,000')\n",
    "elif (occupation =='yes') and (salary <=200_000):\n",
    "    print('congratulations! ' + name + ', you are eligible for a loan')\n",
    "    print('loan limit is 100,000')\n",
    "elif (occupation =='yes') and (salary <=500_000):\n",
    "    print('congratulations! ' + name + ', you are eligible for a loan')\n",
    "    print('loan limit is 250,000')\n",
    "elif (occupation =='yes') and (salary <=1_000_000):\n",
    "    print('congratulations! ' + name + ', you are eligible for a loan')\n",
    "    print('loan limit is 500,000')\n",
    "elif (occupation =='yes') and (salary >=1_000_000):\n",
    "    print('congratulations! ' + name + ', you are eligible for a loan')\n",
    "    print('please contact us for more details')       \n",
    "else:\n",
    "            print('error')"
   ]
  },
  {
   "cell_type": "code",
   "execution_count": 14,
   "id": "74c40f52",
   "metadata": {},
   "outputs": [
    {
     "name": "stdout",
     "output_type": "stream",
     "text": [
      "What is your name? Leye\n",
      "How old are you? 29\n",
      "Do you work/ have a job? yes\n",
      "How much do you earn? 1_000_000\n",
      "congratulations! Leye, you are eligible for a loan\n",
      "loan limit is 500,000\n"
     ]
    }
   ],
   "source": [
    "name= input('What is your name? ')\n",
    "\n",
    "age=int(input('How old are you? '))\n",
    "\n",
    "occupation= input('Do you work/ have a job? ')\n",
    "\n",
    "salary=int(input('How much do you earn? '))\n",
    "\n",
    "if (occupation=='no' ) and (salary< 50_000) or (age < 18) or (age>=65):\n",
    "    print('sorry! '+ name + ', you are not eligible for a loan')\n",
    "elif (occupation =='no') and (salary >=50_000):\n",
    "    print('congratulations! ' + name + ' you are eligible for a loan'),\n",
    "    print('loan limit is 25,000')\n",
    "elif (occupation =='yes') and (salary <=50_000):\n",
    "    print('congratulations! ' + name + ' you are eligible for a loan')\n",
    "    print('loan limit is 25,000')\n",
    "elif (occupation =='yes') and (salary <= 100_000):\n",
    "        print('congratulations! '+ name+ ', you are eligible for a loan')\n",
    "        print('Loan limit is 50,000')\n",
    "elif (occupation =='yes') and (salary <=200_000):\n",
    "    print('congratulations! ' + name + ', you are eligible for a loan')\n",
    "    print('loan limit is 100,000')\n",
    "elif (occupation =='yes') and (salary <=500_000):\n",
    "    print('congratulations! ' + name + ', you are eligible for a loan')\n",
    "    print('loan limit is 250,000')\n",
    "elif (occupation =='yes') and (salary <=1_000_000):\n",
    "    print('congratulations! ' + name + ', you are eligible for a loan')\n",
    "    print('loan limit is 500,000')\n",
    "elif (occupation =='yes') and (salary >=1_000_000):\n",
    "    print('congratulations! ' + name + ', you are eligible for a loan')\n",
    "    print('please contact us for more details')       \n",
    "else:\n",
    "            print('error')"
   ]
  },
  {
   "cell_type": "code",
   "execution_count": 15,
   "id": "cac26290",
   "metadata": {},
   "outputs": [
    {
     "name": "stdout",
     "output_type": "stream",
     "text": [
      "What is your name? Tola\n",
      "How old are you? 35\n",
      "Do you work/ have a job? yes\n",
      "How much do you earn? 1_5000_000\n",
      "congratulations! Tola, you are eligible for a loan\n",
      "please contact us for more details\n"
     ]
    }
   ],
   "source": [
    "name= input('What is your name? ')\n",
    "\n",
    "age=int(input('How old are you? '))\n",
    "\n",
    "occupation= input('Do you work/ have a job? ')\n",
    "\n",
    "salary=int(input('How much do you earn? '))\n",
    "\n",
    "if (occupation=='no' ) and (salary< 50_000) or (age < 18) or (age>=65):\n",
    "    print('sorry! '+ name + ', you are not eligible for a loan')\n",
    "elif (occupation =='no') and (salary >=50_000):\n",
    "    print('congratulations! ' + name + ' you are eligible for a loan'),\n",
    "    print('loan limit is 25,000')\n",
    "elif (occupation =='yes') and (salary <=50_000):\n",
    "    print('congratulations! ' + name + ' you are eligible for a loan')\n",
    "    print('loan limit is 25,000')\n",
    "elif (occupation =='yes') and (salary <= 100_000):\n",
    "        print('congratulations! '+ name+ ', you are eligible for a loan')\n",
    "        print('Loan limit is 50,000')\n",
    "elif (occupation =='yes') and (salary <=200_000):\n",
    "    print('congratulations! ' + name + ', you are eligible for a loan')\n",
    "    print('loan limit is 100,000')\n",
    "elif (occupation =='yes') and (salary <=500_000):\n",
    "    print('congratulations! ' + name + ', you are eligible for a loan')\n",
    "    print('loan limit is 250,000')\n",
    "elif (occupation =='yes') and (salary <=1_000_000):\n",
    "    print('congratulations! ' + name + ', you are eligible for a loan')\n",
    "    print('loan limit is 500,000')\n",
    "elif (occupation =='yes') and (salary >=1_000_000):\n",
    "    print('congratulations! ' + name + ', you are eligible for a loan')\n",
    "    print('please contact us for more details')       \n",
    "else:\n",
    "            print('error')"
   ]
  }
 ],
 "metadata": {
  "kernelspec": {
   "display_name": "Python 3",
   "language": "python",
   "name": "python3"
  }
 },
 "nbformat": 4,
 "nbformat_minor": 5
}
